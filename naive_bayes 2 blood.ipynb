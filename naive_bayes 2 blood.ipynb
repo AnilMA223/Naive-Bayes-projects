{
 "cells": [
  {
   "cell_type": "markdown",
   "metadata": {
    "colab_type": "text",
    "id": "0MRC0e0KhQ0S"
   },
   "source": [
    "# Naive Bayes"
   ]
  },
  {
   "cell_type": "code",
   "execution_count": 1,
   "metadata": {
    "colab": {},
    "colab_type": "code",
    "id": "YvGPUQaHhXfL"
   },
   "outputs": [],
   "source": [
    "import pandas as pd\n",
    "import matplotlib.pyplot as plt\n",
    "%matplotlib inline\n",
    "import seaborn as sns\n",
    "import numpy as np"
   ]
  },
  {
   "cell_type": "code",
   "execution_count": 2,
   "metadata": {},
   "outputs": [],
   "source": [
    "import os\n",
    "path=r'C:\\Users\\ANIL\\Desktop\\python\\DATASETS\\New folder\\archive (5)\\beginner_datasets'\n",
    "os.chdir(path)"
   ]
  },
  {
   "cell_type": "code",
   "execution_count": 3,
   "metadata": {
    "colab": {},
    "colab_type": "code",
    "id": "M52QDmyzhh9s"
   },
   "outputs": [
    {
     "data": {
      "text/html": [
       "<div>\n",
       "<style scoped>\n",
       "    .dataframe tbody tr th:only-of-type {\n",
       "        vertical-align: middle;\n",
       "    }\n",
       "\n",
       "    .dataframe tbody tr th {\n",
       "        vertical-align: top;\n",
       "    }\n",
       "\n",
       "    .dataframe thead th {\n",
       "        text-align: right;\n",
       "    }\n",
       "</style>\n",
       "<table border=\"1\" class=\"dataframe\">\n",
       "  <thead>\n",
       "    <tr style=\"text-align: right;\">\n",
       "      <th></th>\n",
       "      <th>Recency</th>\n",
       "      <th>Frequency</th>\n",
       "      <th>Monetary</th>\n",
       "      <th>Time</th>\n",
       "      <th>Class</th>\n",
       "    </tr>\n",
       "  </thead>\n",
       "  <tbody>\n",
       "    <tr>\n",
       "      <th>0</th>\n",
       "      <td>2</td>\n",
       "      <td>50</td>\n",
       "      <td>12500</td>\n",
       "      <td>98</td>\n",
       "      <td>1</td>\n",
       "    </tr>\n",
       "    <tr>\n",
       "      <th>1</th>\n",
       "      <td>0</td>\n",
       "      <td>13</td>\n",
       "      <td>3250</td>\n",
       "      <td>28</td>\n",
       "      <td>1</td>\n",
       "    </tr>\n",
       "    <tr>\n",
       "      <th>2</th>\n",
       "      <td>1</td>\n",
       "      <td>16</td>\n",
       "      <td>4000</td>\n",
       "      <td>35</td>\n",
       "      <td>1</td>\n",
       "    </tr>\n",
       "    <tr>\n",
       "      <th>3</th>\n",
       "      <td>2</td>\n",
       "      <td>20</td>\n",
       "      <td>5000</td>\n",
       "      <td>45</td>\n",
       "      <td>1</td>\n",
       "    </tr>\n",
       "    <tr>\n",
       "      <th>4</th>\n",
       "      <td>1</td>\n",
       "      <td>24</td>\n",
       "      <td>6000</td>\n",
       "      <td>77</td>\n",
       "      <td>0</td>\n",
       "    </tr>\n",
       "    <tr>\n",
       "      <th>...</th>\n",
       "      <td>...</td>\n",
       "      <td>...</td>\n",
       "      <td>...</td>\n",
       "      <td>...</td>\n",
       "      <td>...</td>\n",
       "    </tr>\n",
       "    <tr>\n",
       "      <th>743</th>\n",
       "      <td>23</td>\n",
       "      <td>2</td>\n",
       "      <td>500</td>\n",
       "      <td>38</td>\n",
       "      <td>0</td>\n",
       "    </tr>\n",
       "    <tr>\n",
       "      <th>744</th>\n",
       "      <td>21</td>\n",
       "      <td>2</td>\n",
       "      <td>500</td>\n",
       "      <td>52</td>\n",
       "      <td>0</td>\n",
       "    </tr>\n",
       "    <tr>\n",
       "      <th>745</th>\n",
       "      <td>23</td>\n",
       "      <td>3</td>\n",
       "      <td>750</td>\n",
       "      <td>62</td>\n",
       "      <td>0</td>\n",
       "    </tr>\n",
       "    <tr>\n",
       "      <th>746</th>\n",
       "      <td>39</td>\n",
       "      <td>1</td>\n",
       "      <td>250</td>\n",
       "      <td>39</td>\n",
       "      <td>0</td>\n",
       "    </tr>\n",
       "    <tr>\n",
       "      <th>747</th>\n",
       "      <td>72</td>\n",
       "      <td>1</td>\n",
       "      <td>250</td>\n",
       "      <td>72</td>\n",
       "      <td>0</td>\n",
       "    </tr>\n",
       "  </tbody>\n",
       "</table>\n",
       "<p>748 rows × 5 columns</p>\n",
       "</div>"
      ],
      "text/plain": [
       "     Recency  Frequency  Monetary  Time  Class\n",
       "0          2         50     12500    98      1\n",
       "1          0         13      3250    28      1\n",
       "2          1         16      4000    35      1\n",
       "3          2         20      5000    45      1\n",
       "4          1         24      6000    77      0\n",
       "..       ...        ...       ...   ...    ...\n",
       "743       23          2       500    38      0\n",
       "744       21          2       500    52      0\n",
       "745       23          3       750    62      0\n",
       "746       39          1       250    39      0\n",
       "747       72          1       250    72      0\n",
       "\n",
       "[748 rows x 5 columns]"
      ]
     },
     "execution_count": 3,
     "metadata": {},
     "output_type": "execute_result"
    }
   ],
   "source": [
    "df = pd.read_csv('blood.csv')\n",
    "df\n"
   ]
  },
  {
   "cell_type": "code",
   "execution_count": 4,
   "metadata": {},
   "outputs": [
    {
     "data": {
      "text/plain": [
       "array([ 2,  0,  1,  4,  5,  9,  3, 12,  6, 11, 10, 13,  8, 14,  7, 16, 15,\n",
       "       23, 21, 18, 22, 26, 35, 38, 40, 74, 20, 17, 25, 39, 72],\n",
       "      dtype=int64)"
      ]
     },
     "execution_count": 4,
     "metadata": {},
     "output_type": "execute_result"
    }
   ],
   "source": [
    "df['Recency'].unique()"
   ]
  },
  {
   "cell_type": "code",
   "execution_count": 5,
   "metadata": {},
   "outputs": [
    {
     "data": {
      "text/plain": [
       "array([50, 13, 16, 20, 24,  4,  7, 12,  9, 46, 23,  3, 10,  6,  5, 14, 15,\n",
       "       11,  8,  2, 19, 17,  1, 22, 18, 38, 43, 34, 44, 26, 41, 21, 33],\n",
       "      dtype=int64)"
      ]
     },
     "execution_count": 5,
     "metadata": {},
     "output_type": "execute_result"
    }
   ],
   "source": [
    "df['Frequency'].unique()"
   ]
  },
  {
   "cell_type": "code",
   "execution_count": 6,
   "metadata": {},
   "outputs": [
    {
     "data": {
      "text/plain": [
       "Recency      0\n",
       "Frequency    0\n",
       "Monetary     0\n",
       "Time         0\n",
       "Class        0\n",
       "dtype: int64"
      ]
     },
     "execution_count": 6,
     "metadata": {},
     "output_type": "execute_result"
    }
   ],
   "source": [
    "df.isnull().sum()"
   ]
  },
  {
   "cell_type": "code",
   "execution_count": 7,
   "metadata": {},
   "outputs": [
    {
     "name": "stdout",
     "output_type": "stream",
     "text": [
      "<class 'pandas.core.frame.DataFrame'>\n",
      "RangeIndex: 748 entries, 0 to 747\n",
      "Data columns (total 5 columns):\n",
      " #   Column     Non-Null Count  Dtype\n",
      "---  ------     --------------  -----\n",
      " 0   Recency    748 non-null    int64\n",
      " 1   Frequency  748 non-null    int64\n",
      " 2   Monetary   748 non-null    int64\n",
      " 3   Time       748 non-null    int64\n",
      " 4   Class      748 non-null    int64\n",
      "dtypes: int64(5)\n",
      "memory usage: 29.3 KB\n"
     ]
    }
   ],
   "source": [
    "df.info()"
   ]
  },
  {
   "cell_type": "code",
   "execution_count": 8,
   "metadata": {},
   "outputs": [
    {
     "data": {
      "text/plain": [
       "Index(['Recency', 'Frequency', 'Monetary', 'Time', 'Class'], dtype='object')"
      ]
     },
     "execution_count": 8,
     "metadata": {},
     "output_type": "execute_result"
    }
   ],
   "source": [
    "df.columns"
   ]
  },
  {
   "cell_type": "markdown",
   "metadata": {
    "colab_type": "text",
    "id": "YvxIPVyMhmKp"
   },
   "source": [
    "## Splitting the dataset into the Training set and Test set"
   ]
  },
  {
   "cell_type": "code",
   "execution_count": 9,
   "metadata": {},
   "outputs": [],
   "source": [
    "X=df[['Recency', 'Frequency', 'Monetary', 'Time']]\n",
    "y=df['Class']"
   ]
  },
  {
   "cell_type": "code",
   "execution_count": 10,
   "metadata": {
    "colab": {},
    "colab_type": "code",
    "id": "AVzJWAXIhxoC"
   },
   "outputs": [],
   "source": [
    "from sklearn.model_selection import train_test_split\n",
    "X_train, X_test, y_train, y_test = train_test_split(X, y, test_size = 0.25, random_state = 0)"
   ]
  },
  {
   "cell_type": "code",
   "execution_count": 11,
   "metadata": {
    "colab": {
     "base_uri": "https://localhost:8080/",
     "height": 1000
    },
    "colab_type": "code",
    "executionInfo": {
     "elapsed": 2617,
     "status": "ok",
     "timestamp": 1588494217346,
     "user": {
      "displayName": "Hadelin de Ponteves",
      "photoUrl": "https://lh3.googleusercontent.com/a-/AOh14GhEuXdT7eQweUmRPW8_laJuPggSK6hfvpl5a6WBaA=s64",
      "userId": "15047218817161520419"
     },
     "user_tz": -240
    },
    "id": "P3nS3-6r1i2B",
    "outputId": "710f3089-a4d3-40a2-d361-f6706340cc51"
   },
   "outputs": [
    {
     "name": "stdout",
     "output_type": "stream",
     "text": [
      "     Recency  Frequency  Monetary  Time\n",
      "449       16          3       750    50\n",
      "235        8         10      2500    63\n",
      "325       14          2       500    16\n",
      "77         2          2       500     4\n",
      "363       21         13      3250    57\n",
      "..       ...        ...       ...   ...\n",
      "707       11          4      1000    74\n",
      "192        2          4      1000    35\n",
      "629        7         11      2750    89\n",
      "559        3          8      2000    50\n",
      "684       16          4      1000    33\n",
      "\n",
      "[561 rows x 4 columns]\n"
     ]
    }
   ],
   "source": [
    "print(X_train)"
   ]
  },
  {
   "cell_type": "code",
   "execution_count": 12,
   "metadata": {
    "colab": {
     "base_uri": "https://localhost:8080/",
     "height": 171
    },
    "colab_type": "code",
    "executionInfo": {
     "elapsed": 2612,
     "status": "ok",
     "timestamp": 1588494217346,
     "user": {
      "displayName": "Hadelin de Ponteves",
      "photoUrl": "https://lh3.googleusercontent.com/a-/AOh14GhEuXdT7eQweUmRPW8_laJuPggSK6hfvpl5a6WBaA=s64",
      "userId": "15047218817161520419"
     },
     "user_tz": -240
    },
    "id": "8dpDLojm1mVG",
    "outputId": "60265595-b47b-4ce6-ee29-2fdbfd8ee43d"
   },
   "outputs": [
    {
     "name": "stdout",
     "output_type": "stream",
     "text": [
      "449    0\n",
      "235    0\n",
      "325    0\n",
      "77     0\n",
      "363    0\n",
      "      ..\n",
      "707    0\n",
      "192    0\n",
      "629    0\n",
      "559    0\n",
      "684    0\n",
      "Name: Class, Length: 561, dtype: int64\n"
     ]
    }
   ],
   "source": [
    "print(y_train)"
   ]
  },
  {
   "cell_type": "code",
   "execution_count": 13,
   "metadata": {
    "colab": {
     "base_uri": "https://localhost:8080/",
     "height": 1000
    },
    "colab_type": "code",
    "executionInfo": {
     "elapsed": 2607,
     "status": "ok",
     "timestamp": 1588494217347,
     "user": {
      "displayName": "Hadelin de Ponteves",
      "photoUrl": "https://lh3.googleusercontent.com/a-/AOh14GhEuXdT7eQweUmRPW8_laJuPggSK6hfvpl5a6WBaA=s64",
      "userId": "15047218817161520419"
     },
     "user_tz": -240
    },
    "id": "qbb7i0DH1qui",
    "outputId": "9d4d1dfa-7acf-40aa-a77e-8c178dfa9aa3"
   },
   "outputs": [
    {
     "name": "stdout",
     "output_type": "stream",
     "text": [
      "     Recency  Frequency  Monetary  Time\n",
      "258        4          3       750    28\n",
      "521        2         11      2750    41\n",
      "14         2          6      1500    15\n",
      "31         4         10      2500    28\n",
      "505        2         41     10250    98\n",
      "..       ...        ...       ...   ...\n",
      "255        2          3       750    35\n",
      "21         4         11      2750    28\n",
      "593        9         11      2750    49\n",
      "386       14          1       250    14\n",
      "35         2          8      2000    28\n",
      "\n",
      "[187 rows x 4 columns]\n"
     ]
    }
   ],
   "source": [
    "print(X_test)"
   ]
  },
  {
   "cell_type": "code",
   "execution_count": 14,
   "metadata": {
    "colab": {
     "base_uri": "https://localhost:8080/",
     "height": 68
    },
    "colab_type": "code",
    "executionInfo": {
     "elapsed": 2601,
     "status": "ok",
     "timestamp": 1588494217347,
     "user": {
      "displayName": "Hadelin de Ponteves",
      "photoUrl": "https://lh3.googleusercontent.com/a-/AOh14GhEuXdT7eQweUmRPW8_laJuPggSK6hfvpl5a6WBaA=s64",
      "userId": "15047218817161520419"
     },
     "user_tz": -240
    },
    "id": "kj1hnFAR1s5w",
    "outputId": "c9bf748e-5c96-411d-d433-53b90fb38dad"
   },
   "outputs": [
    {
     "name": "stdout",
     "output_type": "stream",
     "text": [
      "258    0\n",
      "521    1\n",
      "14     1\n",
      "31     1\n",
      "505    1\n",
      "      ..\n",
      "255    0\n",
      "21     0\n",
      "593    1\n",
      "386    0\n",
      "35     1\n",
      "Name: Class, Length: 187, dtype: int64\n"
     ]
    }
   ],
   "source": [
    "print(y_test)"
   ]
  },
  {
   "cell_type": "markdown",
   "metadata": {
    "colab_type": "text",
    "id": "kW3c7UYih0hT"
   },
   "source": [
    "## Feature Scaling"
   ]
  },
  {
   "cell_type": "code",
   "execution_count": 15,
   "metadata": {
    "colab": {},
    "colab_type": "code",
    "id": "9fQlDPKCh8sc"
   },
   "outputs": [],
   "source": [
    "from sklearn.preprocessing import StandardScaler\n",
    "sc = StandardScaler()\n",
    "X_train = sc.fit_transform(X_train)\n",
    "X_test = sc.transform(X_test)"
   ]
  },
  {
   "cell_type": "code",
   "execution_count": 16,
   "metadata": {
    "colab": {
     "base_uri": "https://localhost:8080/",
     "height": 1000
    },
    "colab_type": "code",
    "executionInfo": {
     "elapsed": 2593,
     "status": "ok",
     "timestamp": 1588494217348,
     "user": {
      "displayName": "Hadelin de Ponteves",
      "photoUrl": "https://lh3.googleusercontent.com/a-/AOh14GhEuXdT7eQweUmRPW8_laJuPggSK6hfvpl5a6WBaA=s64",
      "userId": "15047218817161520419"
     },
     "user_tz": -240
    },
    "id": "syrnD1Op2BSR",
    "outputId": "8e650ae2-fe49-4673-800d-96f19058f2a9"
   },
   "outputs": [
    {
     "name": "stdout",
     "output_type": "stream",
     "text": [
      "[[ 0.83389889 -0.41908973 -0.41908973  0.63647224]\n",
      " [-0.19314233  0.81554296  0.81554296  1.16665979]\n",
      " [ 0.57713859 -0.59546583 -0.59546583 -0.75017213]\n",
      " ...\n",
      " [-0.32152249  0.99191906  0.99191906  2.22703489]\n",
      " [-0.8350431   0.46279076  0.46279076  0.63647224]\n",
      " [ 0.83389889 -0.24271363 -0.24271363 -0.05684995]]\n"
     ]
    }
   ],
   "source": [
    "print(X_train)"
   ]
  },
  {
   "cell_type": "code",
   "execution_count": 17,
   "metadata": {
    "colab": {
     "base_uri": "https://localhost:8080/",
     "height": 1000
    },
    "colab_type": "code",
    "executionInfo": {
     "elapsed": 2588,
     "status": "ok",
     "timestamp": 1588494217348,
     "user": {
      "displayName": "Hadelin de Ponteves",
      "photoUrl": "https://lh3.googleusercontent.com/a-/AOh14GhEuXdT7eQweUmRPW8_laJuPggSK6hfvpl5a6WBaA=s64",
      "userId": "15047218817161520419"
     },
     "user_tz": -240
    },
    "id": "JUd6iBRp2C3L",
    "outputId": "479a69bf-8358-42ab-eaa5-990b6da228b2"
   },
   "outputs": [
    {
     "name": "stdout",
     "output_type": "stream",
     "text": [
      "[[-0.70666295 -0.41908973 -0.41908973 -0.26076824]\n",
      " [-0.96342325  0.99191906  0.99191906  0.26941932]\n",
      " [-0.96342325  0.11003856  0.11003856 -0.79095579]\n",
      " [-0.70666295  0.81554296  0.81554296 -0.26076824]\n",
      " [-0.96342325  6.28320204  6.28320204  2.59408782]\n",
      " [-0.96342325 -0.59546583 -0.59546583 -1.23957603]\n",
      " [ 0.57713859 -0.77184193 -0.77184193 -0.83173945]\n",
      " [-0.96342325 -0.59546583 -0.59546583 -1.23957603]\n",
      " [ 1.73255997 -0.41908973 -0.41908973  0.22863566]\n",
      " [-0.70666295  1.16829516  1.16829516 -0.01606629]\n",
      " [ 0.19199813  0.11003856  0.11003856  0.26941932]\n",
      " [ 0.57713859 -0.24271363 -0.24271363  0.14706834]\n",
      " [-0.96342325 -0.77184193 -0.77184193 -1.32114334]\n",
      " [-0.70666295  1.34467126  1.34467126  0.187852  ]\n",
      " [-0.96342325  1.34467126  1.34467126  0.75882321]\n",
      " [ 1.73255997  0.46279076  0.46279076  1.41136174]\n",
      " [-0.19314233 -0.59546583 -0.59546583 -0.75017213]\n",
      " [ 1.47579966 -0.77184193 -0.77184193 -0.54625384]\n",
      " [ 0.57713859  0.28641466  0.28641466  1.53371271]\n",
      " [-0.70666295  0.46279076  0.46279076  0.22863566]\n",
      " [ 0.19199813  0.28641466  0.28641466  1.20744345]\n",
      " [ 0.19199813 -0.59546583 -0.59546583 -0.95409042]\n",
      " [ 0.19199813 -0.77184193 -0.77184193 -0.95409042]\n",
      " [-0.70666295 -0.77184193 -0.77184193 -1.23957603]\n",
      " [-0.44990264 -0.41908973 -0.41908973 -0.34233555]\n",
      " [ 0.57713859  0.46279076  0.46279076 -0.34233555]\n",
      " [-0.96342325 -0.77184193 -0.77184193 -1.32114334]\n",
      " [-0.70666295  2.40292786  2.40292786  1.41136174]\n",
      " [ 1.0906592  -0.59546583 -0.59546583 -0.46468653]\n",
      " [ 0.19199813  0.28641466  0.28641466  1.12587613]\n",
      " [-0.96342325  0.63916686  0.63916686 -0.50547018]\n",
      " [-0.70666295 -0.59546583 -0.59546583 -0.13841726]\n",
      " [ 3.65826226 -0.77184193 -0.77184193  0.14706834]\n",
      " [-0.70666295  0.11003856  0.11003856  0.02471737]\n",
      " [-0.96342325 -0.41908973 -0.41908973  1.737631  ]\n",
      " [-0.70666295 -0.77184193 -0.77184193 -1.23957603]\n",
      " [ 0.83389889 -0.77184193 -0.77184193 -0.75017213]\n",
      " [-0.70666295  1.52104736  1.52104736  2.10468392]\n",
      " [-0.32152249 -0.59546583 -0.59546583 -0.75017213]\n",
      " [ 0.83389889 -0.77184193 -0.77184193 -0.75017213]\n",
      " [ 0.19199813 -0.59546583 -0.59546583 -0.95409042]\n",
      " [ 0.06361797 -0.06633753 -0.06633753  0.14706834]\n",
      " [-0.70666295 -0.77184193 -0.77184193 -1.23957603]\n",
      " [-1.22018356  1.34467126  1.34467126 -0.26076824]\n",
      " [ 0.19199813 -0.24271363 -0.24271363  0.9627415 ]\n",
      " [ 0.57713859 -0.06633753 -0.06633753  1.61528003]\n",
      " [-0.70666295  0.11003856  0.11003856  0.47333761]\n",
      " [ 0.57713859 -0.59546583 -0.59546583 -0.83173945]\n",
      " [-0.8350431   1.52104736  1.52104736  0.02471737]\n",
      " [ 0.19199813  0.46279076  0.46279076  0.26941932]\n",
      " [ 1.47579966 -0.41908973 -0.41908973 -0.34233555]\n",
      " [-0.06476218  0.46279076  0.46279076  0.14706834]\n",
      " [ 0.19199813 -0.59546583 -0.59546583 -0.83173945]\n",
      " [ 0.19199813 -0.77184193 -0.77184193 -0.95409042]\n",
      " [ 0.83389889 -0.06633753 -0.06633753  0.22863566]\n",
      " [-0.96342325  0.46279076  0.46279076  0.14706834]\n",
      " [-0.70666295 -0.59546583 -0.59546583  0.47333761]\n",
      " [ 0.19199813 -0.06633753 -0.06633753 -0.66860482]\n",
      " [ 0.19199813 -0.06633753 -0.06633753  0.63647224]\n",
      " [ 0.57713859 -0.59546583 -0.59546583 -0.83173945]\n",
      " [-0.70666295 -0.06633753 -0.06633753  0.9627415 ]\n",
      " [-0.96342325 -0.77184193 -0.77184193 -1.32114334]\n",
      " [-0.96342325  0.11003856  0.11003856 -0.26076824]\n",
      " [-0.96342325  1.16829516  1.16829516  1.45214539]\n",
      " [-0.70666295 -0.77184193 -0.77184193 -1.23957603]\n",
      " [-0.70666295 -0.77184193 -0.77184193 -1.23957603]\n",
      " [ 0.57713859 -0.59546583 -0.59546583 -0.83173945]\n",
      " [ 0.57713859 -0.59546583 -0.59546583 -0.83173945]\n",
      " [ 1.73255997 -0.59546583 -0.59546583  2.14546758]\n",
      " [-1.22018356  3.63756055  3.63756055  1.69684734]\n",
      " [ 1.73255997  1.69742346  1.69742346  0.92195784]\n",
      " [ 0.19199813  0.63916686  0.63916686  1.53371271]\n",
      " [-0.96342325 -0.77184193 -0.77184193 -1.32114334]\n",
      " [-0.96342325  0.11003856  0.11003856  0.43255395]\n",
      " [-0.70666295 -0.59546583 -0.59546583  0.26941932]\n",
      " [-0.70666295 -0.77184193 -0.77184193 -1.23957603]\n",
      " [ 0.57713859 -0.06633753 -0.06633753 -0.83173945]\n",
      " [ 0.83389889 -0.59546583 -0.59546583 -0.75017213]\n",
      " [-0.96342325  1.69742346  1.69742346  1.20744345]\n",
      " [-0.96342325  0.11003856  0.11003856 -0.34233555]\n",
      " [-0.96342325  0.11003856  0.11003856 -0.79095579]\n",
      " [ 0.19199813  2.05017566  2.05017566  1.81919832]\n",
      " [-0.96342325 -0.06633753 -0.06633753 -0.34233555]\n",
      " [-0.96342325 -0.41908973 -0.41908973  0.71803955]\n",
      " [-0.96342325 -0.06633753 -0.06633753 -0.75017213]\n",
      " [-0.96342325  0.99191906  0.99191906  0.47333761]\n",
      " [-0.70666295 -0.77184193 -0.77184193 -1.23957603]\n",
      " [-0.96342325  0.11003856  0.11003856 -0.26076824]\n",
      " [ 1.73255997 -0.41908973 -0.41908973 -0.26076824]\n",
      " [ 8.27994778 -0.77184193 -0.77184193  1.61528003]\n",
      " [ 0.83389889 -0.24271363 -0.24271363 -0.26076824]\n",
      " [ 3.2731218  -0.41908973 -0.41908973  1.20744345]\n",
      " [-0.70666295  3.10843225  3.10843225  0.9627415 ]\n",
      " [-0.70666295  0.28641466  0.28641466 -0.38311921]\n",
      " [-0.96342325  6.63595424  6.63595424  2.10468392]\n",
      " [-0.96342325  0.99191906  0.99191906  0.22863566]\n",
      " [-0.96342325  0.99191906  0.99191906 -0.34233555]\n",
      " [ 1.73255997  0.28641466  0.28641466  2.18625124]\n",
      " [-0.32152249  1.52104736  1.52104736  0.55490492]\n",
      " [-0.96342325 -0.77184193 -0.77184193 -1.32114334]\n",
      " [-0.70666295 -0.06633753 -0.06633753 -0.75017213]\n",
      " [ 0.57713859  2.22655176  2.22655176  1.77841466]\n",
      " [-0.8350431  -0.59546583 -0.59546583 -0.46468653]\n",
      " [-0.44990264 -0.59546583 -0.59546583 -0.95409042]\n",
      " [ 0.57713859 -0.77184193 -0.77184193 -0.83173945]\n",
      " [ 0.19199813 -0.24271363 -0.24271363  1.00352516]\n",
      " [ 1.73255997 -0.77184193 -0.77184193 -0.46468653]\n",
      " [-0.96342325 -0.59546583 -0.59546583 -0.95409042]\n",
      " [-0.70666295  0.28641466  0.28641466 -0.09763361]\n",
      " [ 1.98932027  0.11003856  0.11003856  0.63647224]\n",
      " [-0.96342325 -0.77184193 -0.77184193 -1.32114334]\n",
      " [ 1.47579966 -0.77184193 -0.77184193 -0.54625384]\n",
      " [ 0.57713859  0.11003856  0.11003856  0.67725589]\n",
      " [ 0.57713859 -0.77184193 -0.77184193 -0.83173945]\n",
      " [ 0.19199813  0.99191906  0.99191906  0.14706834]\n",
      " [ 1.47579966 -0.06633753 -0.06633753  1.04430882]\n",
      " [-0.96342325 -0.24271363 -0.24271363 -0.75017213]\n",
      " [-0.96342325 -0.59546583 -0.59546583 -1.32114334]\n",
      " [ 1.47579966 -0.77184193 -0.77184193 -0.54625384]\n",
      " [ 1.73255997 -0.41908973 -0.41908973  2.22703489]\n",
      " [-0.96342325  0.11003856  0.11003856  0.26941932]\n",
      " [-0.70666295  0.63916686  0.63916686  0.71803955]\n",
      " [ 0.44875843 -0.41908973 -0.41908973 -0.83173945]\n",
      " [ 1.73255997 -0.24271363 -0.24271363  0.43255395]\n",
      " [-0.70666295  0.11003856  0.11003856 -0.75017213]\n",
      " [ 0.19199813 -0.59546583 -0.59546583 -0.54625384]\n",
      " [-0.96342325 -0.59546583 -0.59546583 -1.32114334]\n",
      " [-0.70666295 -0.77184193 -0.77184193 -1.23957603]\n",
      " [ 0.83389889  1.87379956  1.87379956  1.737631  ]\n",
      " [ 0.83389889  0.28641466  0.28641466 -0.26076824]\n",
      " [ 0.19199813  0.99191906  0.99191906  0.31020297]\n",
      " [-0.70666295 -0.41908973 -0.41908973 -0.75017213]\n",
      " [-0.96342325 -0.24271363 -0.24271363 -0.75017213]\n",
      " [-0.96342325 -0.41908973 -0.41908973 -1.03565774]\n",
      " [ 0.19199813  0.46279076  0.46279076  0.71803955]\n",
      " [-0.96342325  0.11003856  0.11003856 -0.50547018]\n",
      " [ 1.73255997 -0.41908973 -0.41908973  0.55490492]\n",
      " [ 1.47579966 -0.41908973 -0.41908973 -0.34233555]\n",
      " [ 1.73255997 -0.59546583 -0.59546583 -0.26076824]\n",
      " [-0.06476218 -0.77184193 -0.77184193 -1.03565774]\n",
      " [-0.32152249  0.81554296  0.81554296  0.51412126]\n",
      " [ 0.57713859 -0.24271363 -0.24271363 -0.34233555]\n",
      " [ 0.06361797 -0.24271363 -0.24271363 -0.75017213]\n",
      " [ 0.19199813  0.63916686  0.63916686  0.14706834]\n",
      " [-1.09180341  0.28641466  0.28641466  0.92195784]\n",
      " [-0.70666295 -0.77184193 -0.77184193 -1.23957603]\n",
      " [-0.70666295 -0.24271363 -0.24271363 -0.34233555]\n",
      " [ 1.47579966 -0.41908973 -0.41908973  0.02471737]\n",
      " [ 0.19199813 -0.06633753 -0.06633753  0.02471737]\n",
      " [ 0.83389889 -0.77184193 -0.77184193 -0.75017213]\n",
      " [-0.70666295  0.63916686  0.63916686  0.14706834]\n",
      " [-0.8350431  -0.06633753 -0.06633753 -0.91330676]\n",
      " [-0.96342325 -0.77184193 -0.77184193 -1.32114334]\n",
      " [ 0.83389889  0.81554296  0.81554296  2.22703489]\n",
      " [ 1.73255997 -0.77184193 -0.77184193 -0.46468653]\n",
      " [-0.96342325 -0.77184193 -0.77184193 -1.32114334]\n",
      " [-0.96342325 -0.77184193 -0.77184193 -1.32114334]\n",
      " [ 0.57713859 -0.77184193 -0.77184193 -0.83173945]\n",
      " [-0.96342325  1.69742346  1.69742346  0.59568858]\n",
      " [ 1.73255997 -0.24271363 -0.24271363  0.71803955]\n",
      " [-0.32152249  1.16829516  1.16829516  2.10468392]\n",
      " [-0.70666295 -0.59546583 -0.59546583  1.00352516]\n",
      " [ 1.73255997 -0.77184193 -0.77184193 -0.46468653]\n",
      " [-0.70666295  4.87219325  4.87219325  2.59408782]\n",
      " [ 0.83389889  0.11003856  0.11003856  0.63647224]\n",
      " [-0.70666295 -0.77184193 -0.77184193 -1.23957603]\n",
      " [ 0.83389889  0.81554296  0.81554296  1.12587613]\n",
      " [ 0.19199813  0.81554296  0.81554296  0.02471737]\n",
      " [-0.70666295  0.63916686  0.63916686 -0.26076824]\n",
      " [ 0.83389889 -0.77184193 -0.77184193 -0.75017213]\n",
      " [-0.96342325  0.81554296  0.81554296  0.59568858]\n",
      " [-0.19314233  0.63916686  0.63916686  0.9627415 ]\n",
      " [ 1.73255997 -0.77184193 -0.77184193 -0.46468653]\n",
      " [-0.96342325 -0.41908973 -0.41908973  0.14706834]\n",
      " [-0.96342325  0.63916686  0.63916686  1.61528003]\n",
      " [ 1.47579966 -0.77184193 -0.77184193 -0.54625384]\n",
      " [-0.96342325  0.11003856  0.11003856 -0.50547018]\n",
      " [-0.96342325 -0.24271363 -0.24271363 -0.34233555]\n",
      " [ 0.19199813  1.52104736  1.52104736  1.57449637]\n",
      " [-0.06476218 -0.59546583 -0.59546583 -0.34233555]\n",
      " [ 0.57713859 -0.59546583 -0.59546583 -0.54625384]\n",
      " [-0.70666295 -0.59546583 -0.59546583 -1.03565774]\n",
      " [-0.96342325 -0.41908973 -0.41908973  0.02471737]\n",
      " [-0.70666295  0.99191906  0.99191906 -0.26076824]\n",
      " [-0.06476218  0.99191906  0.99191906  0.59568858]\n",
      " [ 0.57713859 -0.77184193 -0.77184193 -0.83173945]\n",
      " [-0.96342325  0.46279076  0.46279076 -0.26076824]]\n"
     ]
    }
   ],
   "source": [
    "print(X_test)"
   ]
  },
  {
   "cell_type": "markdown",
   "metadata": {
    "colab_type": "text",
    "id": "bb6jCOCQiAmP"
   },
   "source": [
    "## Training the Naive Bayes model on the Training set"
   ]
  },
  {
   "cell_type": "code",
   "execution_count": 18,
   "metadata": {
    "colab": {
     "base_uri": "https://localhost:8080/",
     "height": 34
    },
    "colab_type": "code",
    "executionInfo": {
     "elapsed": 2587,
     "status": "ok",
     "timestamp": 1588494217349,
     "user": {
      "displayName": "Hadelin de Ponteves",
      "photoUrl": "https://lh3.googleusercontent.com/a-/AOh14GhEuXdT7eQweUmRPW8_laJuPggSK6hfvpl5a6WBaA=s64",
      "userId": "15047218817161520419"
     },
     "user_tz": -240
    },
    "id": "e0pFVAmciHQs",
    "outputId": "6882b5ab-26fa-43c5-f9b8-5b117b2dc0b5"
   },
   "outputs": [
    {
     "data": {
      "text/plain": [
       "GaussianNB()"
      ]
     },
     "execution_count": 18,
     "metadata": {},
     "output_type": "execute_result"
    }
   ],
   "source": [
    "from sklearn.naive_bayes import GaussianNB\n",
    "classifier = GaussianNB()\n",
    "classifier.fit(X_train, y_train)"
   ]
  },
  {
   "cell_type": "markdown",
   "metadata": {
    "colab_type": "text",
    "id": "yyxW5b395mR2"
   },
   "source": [
    "## Predicting a new result"
   ]
  },
  {
   "cell_type": "code",
   "execution_count": 19,
   "metadata": {
    "colab": {
     "base_uri": "https://localhost:8080/",
     "height": 34
    },
    "colab_type": "code",
    "executionInfo": {
     "elapsed": 2582,
     "status": "ok",
     "timestamp": 1588494217349,
     "user": {
      "displayName": "Hadelin de Ponteves",
      "photoUrl": "https://lh3.googleusercontent.com/a-/AOh14GhEuXdT7eQweUmRPW8_laJuPggSK6hfvpl5a6WBaA=s64",
      "userId": "15047218817161520419"
     },
     "user_tz": -240
    },
    "id": "f8YOXsQy58rP",
    "outputId": "f813965b-988a-4e20-a410-9d5a9c45abc2"
   },
   "outputs": [
    {
     "name": "stdout",
     "output_type": "stream",
     "text": [
      "[0]\n"
     ]
    }
   ],
   "source": [
    "print(classifier.predict(sc.transform([[-0.96342325, 0.99191906,  0.99191906,  0.22863566]])))"
   ]
  },
  {
   "cell_type": "markdown",
   "metadata": {
    "colab_type": "text",
    "id": "vKYVQH-l5NpE"
   },
   "source": [
    "## Predicting the Test set results"
   ]
  },
  {
   "cell_type": "code",
   "execution_count": 20,
   "metadata": {
    "colab": {
     "base_uri": "https://localhost:8080/",
     "height": 1000
    },
    "colab_type": "code",
    "executionInfo": {
     "elapsed": 2576,
     "status": "ok",
     "timestamp": 1588494217349,
     "user": {
      "displayName": "Hadelin de Ponteves",
      "photoUrl": "https://lh3.googleusercontent.com/a-/AOh14GhEuXdT7eQweUmRPW8_laJuPggSK6hfvpl5a6WBaA=s64",
      "userId": "15047218817161520419"
     },
     "user_tz": -240
    },
    "id": "p6VMTb2O4hwM",
    "outputId": "521c30be-051f-4309-f285-5db338f3c038"
   },
   "outputs": [
    {
     "name": "stdout",
     "output_type": "stream",
     "text": [
      "[[0 0]\n",
      " [0 1]\n",
      " [0 1]\n",
      " [0 1]\n",
      " [1 1]\n",
      " [0 0]\n",
      " [0 0]\n",
      " [0 1]\n",
      " [0 0]\n",
      " [1 1]\n",
      " [0 0]\n",
      " [0 0]\n",
      " [0 0]\n",
      " [1 1]\n",
      " [1 1]\n",
      " [0 0]\n",
      " [0 0]\n",
      " [0 0]\n",
      " [0 0]\n",
      " [0 1]\n",
      " [0 0]\n",
      " [0 0]\n",
      " [0 1]\n",
      " [0 0]\n",
      " [0 0]\n",
      " [0 0]\n",
      " [0 0]\n",
      " [1 1]\n",
      " [0 0]\n",
      " [0 1]\n",
      " [0 1]\n",
      " [0 0]\n",
      " [0 0]\n",
      " [0 1]\n",
      " [0 0]\n",
      " [0 1]\n",
      " [0 0]\n",
      " [1 0]\n",
      " [0 0]\n",
      " [0 0]\n",
      " [0 0]\n",
      " [0 0]\n",
      " [0 1]\n",
      " [1 1]\n",
      " [0 0]\n",
      " [0 0]\n",
      " [0 0]\n",
      " [0 0]\n",
      " [1 0]\n",
      " [0 1]\n",
      " [0 1]\n",
      " [0 1]\n",
      " [0 0]\n",
      " [0 0]\n",
      " [0 1]\n",
      " [0 1]\n",
      " [0 0]\n",
      " [0 0]\n",
      " [0 0]\n",
      " [0 0]\n",
      " [0 0]\n",
      " [0 0]\n",
      " [0 0]\n",
      " [1 1]\n",
      " [0 0]\n",
      " [0 0]\n",
      " [0 0]\n",
      " [0 0]\n",
      " [0 0]\n",
      " [1 1]\n",
      " [0 0]\n",
      " [0 1]\n",
      " [0 0]\n",
      " [0 0]\n",
      " [0 0]\n",
      " [0 0]\n",
      " [0 0]\n",
      " [0 0]\n",
      " [1 0]\n",
      " [0 0]\n",
      " [0 1]\n",
      " [1 1]\n",
      " [0 0]\n",
      " [0 0]\n",
      " [0 1]\n",
      " [0 0]\n",
      " [0 0]\n",
      " [0 1]\n",
      " [0 0]\n",
      " [0 0]\n",
      " [0 0]\n",
      " [0 0]\n",
      " [1 0]\n",
      " [0 0]\n",
      " [1 1]\n",
      " [0 1]\n",
      " [1 0]\n",
      " [0 0]\n",
      " [1 0]\n",
      " [0 0]\n",
      " [0 1]\n",
      " [1 0]\n",
      " [0 0]\n",
      " [0 1]\n",
      " [0 0]\n",
      " [0 0]\n",
      " [0 0]\n",
      " [0 1]\n",
      " [0 1]\n",
      " [0 0]\n",
      " [0 0]\n",
      " [0 0]\n",
      " [0 0]\n",
      " [0 0]\n",
      " [0 0]\n",
      " [0 0]\n",
      " [0 0]\n",
      " [0 0]\n",
      " [0 0]\n",
      " [0 0]\n",
      " [0 1]\n",
      " [0 0]\n",
      " [0 1]\n",
      " [0 0]\n",
      " [0 1]\n",
      " [0 0]\n",
      " [0 0]\n",
      " [0 0]\n",
      " [0 0]\n",
      " [0 0]\n",
      " [0 0]\n",
      " [0 0]\n",
      " [0 1]\n",
      " [0 1]\n",
      " [0 1]\n",
      " [0 0]\n",
      " [0 0]\n",
      " [0 0]\n",
      " [0 0]\n",
      " [0 0]\n",
      " [0 0]\n",
      " [0 0]\n",
      " [0 0]\n",
      " [0 0]\n",
      " [0 0]\n",
      " [0 0]\n",
      " [0 0]\n",
      " [0 0]\n",
      " [0 0]\n",
      " [0 0]\n",
      " [0 1]\n",
      " [0 1]\n",
      " [0 0]\n",
      " [0 0]\n",
      " [0 1]\n",
      " [0 0]\n",
      " [0 0]\n",
      " [0 0]\n",
      " [1 1]\n",
      " [0 0]\n",
      " [0 0]\n",
      " [0 0]\n",
      " [0 0]\n",
      " [1 1]\n",
      " [0 0]\n",
      " [0 1]\n",
      " [0 0]\n",
      " [0 0]\n",
      " [0 1]\n",
      " [0 0]\n",
      " [0 0]\n",
      " [0 0]\n",
      " [0 0]\n",
      " [0 1]\n",
      " [0 0]\n",
      " [0 0]\n",
      " [0 1]\n",
      " [0 0]\n",
      " [1 1]\n",
      " [0 0]\n",
      " [0 1]\n",
      " [0 1]\n",
      " [0 0]\n",
      " [1 0]\n",
      " [0 1]\n",
      " [0 0]\n",
      " [0 1]]\n"
     ]
    }
   ],
   "source": [
    "y_pred = classifier.predict(X_test)\n",
    "print(np.concatenate((np.array(y_pred).reshape(len(y_pred),1),np.array(y_test).reshape(len(y_test),1)),1))"
   ]
  },
  {
   "cell_type": "markdown",
   "metadata": {
    "colab_type": "text",
    "id": "h4Hwj34ziWQW"
   },
   "source": [
    "## Making the Confusion Matrix"
   ]
  },
  {
   "cell_type": "code",
   "execution_count": 21,
   "metadata": {
    "colab": {
     "base_uri": "https://localhost:8080/",
     "height": 68
    },
    "colab_type": "code",
    "executionInfo": {
     "elapsed": 2571,
     "status": "ok",
     "timestamp": 1588494217350,
     "user": {
      "displayName": "Hadelin de Ponteves",
      "photoUrl": "https://lh3.googleusercontent.com/a-/AOh14GhEuXdT7eQweUmRPW8_laJuPggSK6hfvpl5a6WBaA=s64",
      "userId": "15047218817161520419"
     },
     "user_tz": -240
    },
    "id": "D6bpZwUiiXic",
    "outputId": "9296fb4c-4d60-4d7a-b04e-35e9fa018321"
   },
   "outputs": [
    {
     "name": "stdout",
     "output_type": "stream",
     "text": [
      "[[124   8]\n",
      " [ 42  13]]\n"
     ]
    },
    {
     "data": {
      "text/plain": [
       "0.732620320855615"
      ]
     },
     "execution_count": 21,
     "metadata": {},
     "output_type": "execute_result"
    }
   ],
   "source": [
    "from sklearn.metrics import confusion_matrix, accuracy_score\n",
    "cm = confusion_matrix(y_test, y_pred)\n",
    "print(cm)\n",
    "accuracy_score(y_test, y_pred)"
   ]
  },
  {
   "cell_type": "markdown",
   "metadata": {
    "colab_type": "text",
    "id": "6OMC_P0diaoD"
   },
   "source": [
    "## Visualising the Training set results"
   ]
  },
  {
   "cell_type": "code",
   "execution_count": 22,
   "metadata": {
    "colab": {
     "base_uri": "https://localhost:8080/",
     "height": 349
    },
    "colab_type": "code",
    "executionInfo": {
     "elapsed": 31219,
     "status": "ok",
     "timestamp": 1588494246003,
     "user": {
      "displayName": "Hadelin de Ponteves",
      "photoUrl": "https://lh3.googleusercontent.com/a-/AOh14GhEuXdT7eQweUmRPW8_laJuPggSK6hfvpl5a6WBaA=s64",
      "userId": "15047218817161520419"
     },
     "user_tz": -240
    },
    "id": "_NOjKvZRid5l",
    "outputId": "49f360d2-ab7c-45c2-9795-a9600b24d63b"
   },
   "outputs": [
    {
     "ename": "ValueError",
     "evalue": "X has 2 features, but StandardScaler is expecting 4 features as input.",
     "output_type": "error",
     "traceback": [
      "\u001b[1;31m---------------------------------------------------------------------------\u001b[0m",
      "\u001b[1;31mValueError\u001b[0m                                Traceback (most recent call last)",
      "\u001b[1;32m<ipython-input-22-5c36935aefaf>\u001b[0m in \u001b[0;36m<module>\u001b[1;34m\u001b[0m\n\u001b[0;32m      3\u001b[0m X1, X2 = np.meshgrid(np.arange(start = X_set[:, 0].min() - 10, stop = X_set[:, 0].max() + 10, step = 0.25),\n\u001b[0;32m      4\u001b[0m                      np.arange(start = X_set[:, 1].min() - 1000, stop = X_set[:, 1].max() + 1000, step = 0.25))\n\u001b[1;32m----> 5\u001b[1;33m plt.contourf(X1, X2, classifier.predict(sc.transform(np.array([X1.ravel(), X2.ravel()]).T)).reshape(X1.shape),\n\u001b[0m\u001b[0;32m      6\u001b[0m              alpha = 0.75, cmap = ListedColormap(('red', 'green')))\n\u001b[0;32m      7\u001b[0m \u001b[0mplt\u001b[0m\u001b[1;33m.\u001b[0m\u001b[0mxlim\u001b[0m\u001b[1;33m(\u001b[0m\u001b[0mX1\u001b[0m\u001b[1;33m.\u001b[0m\u001b[0mmin\u001b[0m\u001b[1;33m(\u001b[0m\u001b[1;33m)\u001b[0m\u001b[1;33m,\u001b[0m \u001b[0mX1\u001b[0m\u001b[1;33m.\u001b[0m\u001b[0mmax\u001b[0m\u001b[1;33m(\u001b[0m\u001b[1;33m)\u001b[0m\u001b[1;33m)\u001b[0m\u001b[1;33m\u001b[0m\u001b[1;33m\u001b[0m\u001b[0m\n",
      "\u001b[1;32m~\\anaconda3\\lib\\site-packages\\sklearn\\preprocessing\\_data.py\u001b[0m in \u001b[0;36mtransform\u001b[1;34m(self, X, copy)\u001b[0m\n\u001b[0;32m    881\u001b[0m \u001b[1;33m\u001b[0m\u001b[0m\n\u001b[0;32m    882\u001b[0m         \u001b[0mcopy\u001b[0m \u001b[1;33m=\u001b[0m \u001b[0mcopy\u001b[0m \u001b[1;32mif\u001b[0m \u001b[0mcopy\u001b[0m \u001b[1;32mis\u001b[0m \u001b[1;32mnot\u001b[0m \u001b[1;32mNone\u001b[0m \u001b[1;32melse\u001b[0m \u001b[0mself\u001b[0m\u001b[1;33m.\u001b[0m\u001b[0mcopy\u001b[0m\u001b[1;33m\u001b[0m\u001b[1;33m\u001b[0m\u001b[0m\n\u001b[1;32m--> 883\u001b[1;33m         X = self._validate_data(X, reset=False,\n\u001b[0m\u001b[0;32m    884\u001b[0m                                 \u001b[0maccept_sparse\u001b[0m\u001b[1;33m=\u001b[0m\u001b[1;34m'csr'\u001b[0m\u001b[1;33m,\u001b[0m \u001b[0mcopy\u001b[0m\u001b[1;33m=\u001b[0m\u001b[0mcopy\u001b[0m\u001b[1;33m,\u001b[0m\u001b[1;33m\u001b[0m\u001b[1;33m\u001b[0m\u001b[0m\n\u001b[0;32m    885\u001b[0m                                 \u001b[0mestimator\u001b[0m\u001b[1;33m=\u001b[0m\u001b[0mself\u001b[0m\u001b[1;33m,\u001b[0m \u001b[0mdtype\u001b[0m\u001b[1;33m=\u001b[0m\u001b[0mFLOAT_DTYPES\u001b[0m\u001b[1;33m,\u001b[0m\u001b[1;33m\u001b[0m\u001b[1;33m\u001b[0m\u001b[0m\n",
      "\u001b[1;32m~\\anaconda3\\lib\\site-packages\\sklearn\\base.py\u001b[0m in \u001b[0;36m_validate_data\u001b[1;34m(self, X, y, reset, validate_separately, **check_params)\u001b[0m\n\u001b[0;32m    435\u001b[0m \u001b[1;33m\u001b[0m\u001b[0m\n\u001b[0;32m    436\u001b[0m         \u001b[1;32mif\u001b[0m \u001b[0mcheck_params\u001b[0m\u001b[1;33m.\u001b[0m\u001b[0mget\u001b[0m\u001b[1;33m(\u001b[0m\u001b[1;34m'ensure_2d'\u001b[0m\u001b[1;33m,\u001b[0m \u001b[1;32mTrue\u001b[0m\u001b[1;33m)\u001b[0m\u001b[1;33m:\u001b[0m\u001b[1;33m\u001b[0m\u001b[1;33m\u001b[0m\u001b[0m\n\u001b[1;32m--> 437\u001b[1;33m             \u001b[0mself\u001b[0m\u001b[1;33m.\u001b[0m\u001b[0m_check_n_features\u001b[0m\u001b[1;33m(\u001b[0m\u001b[0mX\u001b[0m\u001b[1;33m,\u001b[0m \u001b[0mreset\u001b[0m\u001b[1;33m=\u001b[0m\u001b[0mreset\u001b[0m\u001b[1;33m)\u001b[0m\u001b[1;33m\u001b[0m\u001b[1;33m\u001b[0m\u001b[0m\n\u001b[0m\u001b[0;32m    438\u001b[0m \u001b[1;33m\u001b[0m\u001b[0m\n\u001b[0;32m    439\u001b[0m         \u001b[1;32mreturn\u001b[0m \u001b[0mout\u001b[0m\u001b[1;33m\u001b[0m\u001b[1;33m\u001b[0m\u001b[0m\n",
      "\u001b[1;32m~\\anaconda3\\lib\\site-packages\\sklearn\\base.py\u001b[0m in \u001b[0;36m_check_n_features\u001b[1;34m(self, X, reset)\u001b[0m\n\u001b[0;32m    363\u001b[0m \u001b[1;33m\u001b[0m\u001b[0m\n\u001b[0;32m    364\u001b[0m         \u001b[1;32mif\u001b[0m \u001b[0mn_features\u001b[0m \u001b[1;33m!=\u001b[0m \u001b[0mself\u001b[0m\u001b[1;33m.\u001b[0m\u001b[0mn_features_in_\u001b[0m\u001b[1;33m:\u001b[0m\u001b[1;33m\u001b[0m\u001b[1;33m\u001b[0m\u001b[0m\n\u001b[1;32m--> 365\u001b[1;33m             raise ValueError(\n\u001b[0m\u001b[0;32m    366\u001b[0m                 \u001b[1;34mf\"X has {n_features} features, but {self.__class__.__name__} \"\u001b[0m\u001b[1;33m\u001b[0m\u001b[1;33m\u001b[0m\u001b[0m\n\u001b[0;32m    367\u001b[0m                 f\"is expecting {self.n_features_in_} features as input.\")\n",
      "\u001b[1;31mValueError\u001b[0m: X has 2 features, but StandardScaler is expecting 4 features as input."
     ]
    }
   ],
   "source": [
    "from matplotlib.colors import ListedColormap\n",
    "X_set, y_set = sc.inverse_transform(X_train), y_train\n",
    "X1, X2 = np.meshgrid(np.arange(start = X_set[:, 0].min() - 10, stop = X_set[:, 0].max() + 10, step = 0.25),\n",
    "                     np.arange(start = X_set[:, 1].min() - 1000, stop = X_set[:, 1].max() + 1000, step = 0.25))\n",
    "plt.contourf(X1, X2, classifier.predict(sc.transform(np.array([X1.ravel(), X2.ravel()]).T)).reshape(X1.shape),\n",
    "             alpha = 0.75, cmap = ListedColormap(('red', 'green')))\n",
    "plt.xlim(X1.min(), X1.max())\n",
    "plt.ylim(X2.min(), X2.max())\n",
    "for i, j in enumerate(np.unique(y_set)):\n",
    "    plt.scatter(X_set[y_set == j, 0], X_set[y_set == j, 1], c = ListedColormap(('red', 'green'))(i), label = j)\n",
    "plt.title('Naive Bayes (Training set)')\n",
    "plt.xlabel('Recency', 'Frequency', 'Monetary', 'Time')\n",
    "plt.ylabel('Class')\n",
    "plt.legend()\n",
    "plt.show()"
   ]
  },
  {
   "cell_type": "markdown",
   "metadata": {
    "colab_type": "text",
    "id": "SZ-j28aPihZx"
   },
   "source": [
    "## Visualising the Test set results"
   ]
  },
  {
   "cell_type": "code",
   "execution_count": null,
   "metadata": {
    "colab": {
     "base_uri": "https://localhost:8080/",
     "height": 349
    },
    "colab_type": "code",
    "executionInfo": {
     "elapsed": 56235,
     "status": "ok",
     "timestamp": 1588494271024,
     "user": {
      "displayName": "Hadelin de Ponteves",
      "photoUrl": "https://lh3.googleusercontent.com/a-/AOh14GhEuXdT7eQweUmRPW8_laJuPggSK6hfvpl5a6WBaA=s64",
      "userId": "15047218817161520419"
     },
     "user_tz": -240
    },
    "id": "qeTjz2vDilAC",
    "outputId": "a7993e85-a23c-4c51-95c7-979c42039fd5"
   },
   "outputs": [],
   "source": [
    "from matplotlib.colors import ListedColormap\n",
    "X_set, y_set = sc.inverse_transform(X_test), y_test\n",
    "X1, X2 = np.meshgrid(np.arange(start = X_set[:, 0].min() - 10, stop = X_set[:, 0].max() + 10, step = 0.25),\n",
    "                     np.arange(start = X_set[:, 1].min() - 1000, stop = X_set[:, 1].max() + 1000, step = 0.25))\n",
    "plt.contourf(X1, X2, classifier.predict(sc.transform(np.array([X1.ravel(), X2.ravel()]).T)).reshape(X1.shape),\n",
    "             alpha = 0.75, cmap = ListedColormap(('red', 'green')))\n",
    "plt.xlim(X1.min(), X1.max())\n",
    "plt.ylim(X2.min(), X2.max())\n",
    "for i, j in enumerate(np.unique(y_set)):\n",
    "    plt.scatter(X_set[y_set == j, 0], X_set[y_set == j, 1], c = ListedColormap(('red', 'green'))(i), label = j)\n",
    "plt.title('Naive Bayes (Test set)')\n",
    "plt.xlabel('Recency')\n",
    "plt.ylabel('Class')\n",
    "plt.legend()\n",
    "plt.show()"
   ]
  },
  {
   "cell_type": "code",
   "execution_count": null,
   "metadata": {},
   "outputs": [],
   "source": []
  }
 ],
 "metadata": {
  "colab": {
   "authorship_tag": "ABX9TyMskY9N5l+KivrHgi4T7yWW",
   "collapsed_sections": [],
   "machine_shape": "hm",
   "name": "naive_bayes.ipynb",
   "provenance": [],
   "toc_visible": true
  },
  "kernelspec": {
   "display_name": "Python 3",
   "language": "python",
   "name": "python3"
  },
  "language_info": {
   "codemirror_mode": {
    "name": "ipython",
    "version": 3
   },
   "file_extension": ".py",
   "mimetype": "text/x-python",
   "name": "python",
   "nbconvert_exporter": "python",
   "pygments_lexer": "ipython3",
   "version": "3.8.8"
  }
 },
 "nbformat": 4,
 "nbformat_minor": 1
}
